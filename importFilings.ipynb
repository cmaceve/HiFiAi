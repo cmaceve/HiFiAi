{
 "cells": [
  {
   "cell_type": "code",
   "execution_count": 11,
   "metadata": {},
   "outputs": [],
   "source": [
    "import requests\n",
    "from bs4 import BeautifulSoup\n",
    "from io import BytesIO\n",
    "from zipfile import ZipFile\n",
    "from xbrl import XBRLParser\n",
    "from sec_edgar_downloader import Downloader\n",
    "import pandas as pd\n",
    "import re\n",
    "from datetime import datetime\n",
    "\n",
    "import os\n",
    "import re\n",
    "from datetime import datetime\n",
    "import time"
   ]
  },
  {
   "cell_type": "code",
   "execution_count": 12,
   "metadata": {},
   "outputs": [],
   "source": [
    "def download_filings_for_specific_years(ticker, filing_type, years):\n",
    "    dl = Downloader()\n",
    "\n",
    "    # Get current year\n",
    "    current_year = datetime.now().year\n",
    "\n",
    "    for year in years:\n",
    "        if year <= current_year:\n",
    "            # Convert datetime to string\n",
    "            before_date = datetime(year+1, 1, 1).strftime('%Y-%m-%d')\n",
    "            after_date = datetime(year, 1, 1).strftime('%Y-%m-%d')\n",
    "\n",
    "            dl.get(filing_type, ticker, amount=1, after=after_date, before=before_date)\n",
    "            time.sleep(1)  # Add a delay to prevent hitting server too frequently\n",
    "\n",
    "\n"
   ]
  },
  {
   "cell_type": "code",
   "execution_count": 13,
   "metadata": {},
   "outputs": [],
   "source": [
    "# Specify the years for which you want to download filings\n",
    "years = [2020, 2021, 2022, 2023]\n",
    "\n",
    "# Call the function for each filing type\n",
    "download_filings_for_specific_years(\"AAPL\", \"10-K\", years)\n",
    "download_filings_for_specific_years(\"AAPL\", \"10-Q\", years)\n"
   ]
  },
  {
   "cell_type": "code",
   "execution_count": 16,
   "metadata": {},
   "outputs": [
    {
     "name": "stdout",
     "output_type": "stream",
     "text": [
      "consolidated balance sheets:\n",
      "                                                   0  \\\n",
      "0                                                NaN   \n",
      "1         Index to Consolidated Financial Statements   \n",
      "2  Consolidated Statements of Operations for the ...   \n",
      "3  Consolidated Statements of Comprehensive Incom...   \n",
      "4  Consolidated Balance Sheets as of September 26...   \n",
      "5  Consolidated Statements of Shareholders’ Equit...   \n",
      "6  Consolidated Statements of Cash Flows for the ...   \n",
      "7         Notes to Consolidated Financial Statements   \n",
      "8  Selected Quarterly Financial Information (Unau...   \n",
      "9  Reports of Independent Registered Public Accou...   \n",
      "\n",
      "                                                   1  \\\n",
      "0                                                NaN   \n",
      "1         Index to Consolidated Financial Statements   \n",
      "2  Consolidated Statements of Operations for the ...   \n",
      "3  Consolidated Statements of Comprehensive Incom...   \n",
      "4  Consolidated Balance Sheets as of September 26...   \n",
      "5  Consolidated Statements of Shareholders’ Equit...   \n",
      "6  Consolidated Statements of Cash Flows for the ...   \n",
      "7         Notes to Consolidated Financial Statements   \n",
      "8  Selected Quarterly Financial Information (Unau...   \n",
      "9  Reports of Independent Registered Public Accou...   \n",
      "\n",
      "                                                   2   3   4   5     6     7  \\\n",
      "0                                                NaN NaN NaN NaN   NaN   NaN   \n",
      "1         Index to Consolidated Financial Statements NaN NaN NaN  Page  Page   \n",
      "2  Consolidated Statements of Operations for the ... NaN NaN NaN    31    31   \n",
      "3  Consolidated Statements of Comprehensive Incom... NaN NaN NaN    32    32   \n",
      "4  Consolidated Balance Sheets as of September 26... NaN NaN NaN    33    33   \n",
      "5  Consolidated Statements of Shareholders’ Equit... NaN NaN NaN    34    34   \n",
      "6  Consolidated Statements of Cash Flows for the ... NaN NaN NaN    35    35   \n",
      "7         Notes to Consolidated Financial Statements NaN NaN NaN    36    36   \n",
      "8  Selected Quarterly Financial Information (Unau... NaN NaN NaN    57    57   \n",
      "9  Reports of Independent Registered Public Accou... NaN NaN NaN    59    59   \n",
      "\n",
      "      8  \n",
      "0   NaN  \n",
      "1  Page  \n",
      "2    31  \n",
      "3    32  \n",
      "4    33  \n",
      "5    34  \n",
      "6    35  \n",
      "7    36  \n",
      "8    57  \n",
      "9    59  \n",
      "\n",
      "\n"
     ]
    }
   ],
   "source": [
    "import os\n",
    "import pandas as pd\n",
    "from bs4 import BeautifulSoup\n",
    "\n",
    "# Function to extract tables from an html file\n",
    "def extract_financial_tables(filepath, table_names):\n",
    "    with open(filepath, 'r') as f:\n",
    "        soup = BeautifulSoup(f, 'html.parser')\n",
    "    \n",
    "    # Find tables\n",
    "    tables = soup.find_all('table')\n",
    "\n",
    "    # Data structure to hold our tables\n",
    "    extracted_tables = {}\n",
    "\n",
    "    # Loop over tables and check if title matches table names\n",
    "    for table in tables:\n",
    "        for name in table_names:\n",
    "            if name.lower() in table.get_text(separator=' ', strip=True).lower():\n",
    "                # Convert the table to a DataFrame\n",
    "                df = pd.read_html(str(table), flavor='bs4')[0]\n",
    "\n",
    "                # Add the DataFrame to our data structure\n",
    "                extracted_tables[name] = df\n",
    "                break\n",
    "\n",
    "    return extracted_tables\n",
    "\n",
    "# Define your path and table names\n",
    "filepath = 'sec-edgar-filings/AAPL/10-K/0000320193-20-000096/full-submission.txt'\n",
    "table_names = ['consolidated balance sheets', 'consolidated statements of income', 'consolidated statements of cash flows']\n",
    "\n",
    "# Call the function\n",
    "tables = extract_financial_tables(filepath, table_names)\n",
    "\n",
    "# Print the extracted tables\n",
    "for name, table in tables.items():\n",
    "    print(f\"{name}:\\n{table}\\n\\n\")\n"
   ]
  },
  {
   "cell_type": "code",
   "execution_count": 35,
   "metadata": {},
   "outputs": [
    {
     "ename": "TypeError",
     "evalue": "'NoneType' object is not subscriptable",
     "output_type": "error",
     "traceback": [
      "\u001b[0;31m---------------------------------------------------------------------------\u001b[0m",
      "\u001b[0;31mTypeError\u001b[0m                                 Traceback (most recent call last)",
      "Cell \u001b[0;32mIn[35], line 38\u001b[0m\n\u001b[1;32m     35\u001b[0m filepath \u001b[39m=\u001b[39m \u001b[39m'\u001b[39m\u001b[39m/Users/charlesacevedo/HiFiAi/sec-edgar-filings/AAPL/10-K/0000320193-20-000096/full-submission.txt\u001b[39m\u001b[39m'\u001b[39m\n\u001b[1;32m     37\u001b[0m \u001b[39m# Extract the financial statements\u001b[39;00m\n\u001b[0;32m---> 38\u001b[0m statements \u001b[39m=\u001b[39m extract_financial_statements(filepath)\n\u001b[1;32m     40\u001b[0m \u001b[39m# Print the extracted financial statements\u001b[39;00m\n\u001b[1;32m     41\u001b[0m \u001b[39mfor\u001b[39;00m name, table \u001b[39min\u001b[39;00m statements\u001b[39m.\u001b[39mitems():\n",
      "Cell \u001b[0;32mIn[35], line 10\u001b[0m, in \u001b[0;36mextract_financial_statements\u001b[0;34m(filepath)\u001b[0m\n\u001b[1;32m      7\u001b[0m     soup \u001b[39m=\u001b[39m BeautifulSoup(f, \u001b[39m'\u001b[39m\u001b[39mhtml.parser\u001b[39m\u001b[39m'\u001b[39m)\n\u001b[1;32m      9\u001b[0m \u001b[39m# Find the XBRL document URL\u001b[39;00m\n\u001b[0;32m---> 10\u001b[0m xbrl_link \u001b[39m=\u001b[39m soup\u001b[39m.\u001b[39;49mfind(\u001b[39m'\u001b[39;49m\u001b[39ma\u001b[39;49m\u001b[39m'\u001b[39;49m, {\u001b[39m'\u001b[39;49m\u001b[39mtitle\u001b[39;49m\u001b[39m'\u001b[39;49m: \u001b[39m'\u001b[39;49m\u001b[39mXBRL Document\u001b[39;49m\u001b[39m'\u001b[39;49m})[\u001b[39m'\u001b[39;49m\u001b[39mhref\u001b[39;49m\u001b[39m'\u001b[39;49m]\n\u001b[1;32m     11\u001b[0m xbrl_url \u001b[39m=\u001b[39m \u001b[39mf\u001b[39m\u001b[39m\"\u001b[39m\u001b[39mhttps://www.sec.gov/Archives/edgar/data/320193/000032019320000096/aapl-20200926.htm#ief781ab58e4f4fcaa872ddbd30da40e1_85\u001b[39m\u001b[39m\"\u001b[39m\n\u001b[1;32m     13\u001b[0m \u001b[39m# Download the XBRL document\u001b[39;00m\n",
      "\u001b[0;31mTypeError\u001b[0m: 'NoneType' object is not subscriptable"
     ]
    }
   ],
   "source": [
    "import pandas as pd\n",
    "from bs4 import BeautifulSoup\n",
    "\n",
    "\n",
    "def extract_financial_statements(filepath):\n",
    "    with open(filepath, 'r') as f:\n",
    "        soup = BeautifulSoup(f, 'html.parser')\n",
    "    \n",
    "    # Find the XBRL document URL\n",
    "    xbrl_link = soup.find('a', {'title': 'XBRL Document'})['href']\n",
    "    xbrl_url = f\"https://www.sec.gov/Archives/edgar/data/320193/000032019320000096/aapl-20200926.htm#ief781ab58e4f4fcaa872ddbd30da40e1_85\"\n",
    "    \n",
    "    # Download the XBRL document\n",
    "    xbrl_content = pd.read_html(xbrl_url)\n",
    "    \n",
    "    # Extract the financial statements\n",
    "    statements = {\n",
    "        'Income Statement': None,\n",
    "        'Balance Sheet': None,\n",
    "        'CONSOLIDATED STATEMENTS OF CASH FLOWS - USD ($)': None\n",
    "    }\n",
    "    \n",
    "    for table in xbrl_content:\n",
    "        if 'income' in table.values[0, 0].lower():\n",
    "            statements['Income Statement'] = table\n",
    "        elif 'balance sheet' in table.values[0, 0].lower():\n",
    "            statements['Balance Sheet'] = table\n",
    "        elif 'cash flow' in table.values[0, 0].lower():\n",
    "            statements['Cash Flow Statement'] = table\n",
    "    \n",
    "    return statements\n",
    "\n",
    "\n",
    "# Specify the file path of the 10-K filing\n",
    "filepath = '/Users/charlesacevedo/HiFiAi/sec-edgar-filings/AAPL/10-K/0000320193-20-000096/full-submission.txt'\n",
    "\n",
    "# Extract the financial statements\n",
    "statements = extract_financial_statements(filepath)\n",
    "\n",
    "# Print the extracted financial statements\n",
    "for name, table in statements.items():\n",
    "    print(f\"{name}:\")\n",
    "    if table is None:\n",
    "        print(\"Statement not found.\")\n",
    "    else:\n",
    "        print(table)\n",
    "    print(\"\\n\")\n",
    "\n"
   ]
  },
  {
   "cell_type": "code",
   "execution_count": 30,
   "metadata": {},
   "outputs": [
    {
     "data": {
      "text/plain": [
       "{}"
      ]
     },
     "execution_count": 30,
     "metadata": {},
     "output_type": "execute_result"
    }
   ],
   "source": [
    "financial_statements"
   ]
  },
  {
   "cell_type": "code",
   "execution_count": 28,
   "metadata": {},
   "outputs": [
    {
     "ename": "NameError",
     "evalue": "name 'balance_sheet_data' is not defined",
     "output_type": "error",
     "traceback": [
      "\u001b[0;31m---------------------------------------------------------------------------\u001b[0m",
      "\u001b[0;31mNameError\u001b[0m                                 Traceback (most recent call last)",
      "Cell \u001b[0;32mIn[28], line 23\u001b[0m\n\u001b[1;32m     19\u001b[0m     \u001b[39m# Convert parsed_lines into DataFrame and return\u001b[39;00m\n\u001b[1;32m     20\u001b[0m     \u001b[39mreturn\u001b[39;00m pd\u001b[39m.\u001b[39mDataFrame(parsed_lines, columns\u001b[39m=\u001b[39m[\u001b[39m'\u001b[39m\u001b[39mAccount\u001b[39m\u001b[39m'\u001b[39m, \u001b[39m'\u001b[39m\u001b[39m2022\u001b[39m\u001b[39m'\u001b[39m, \u001b[39m'\u001b[39m\u001b[39m2021\u001b[39m\u001b[39m'\u001b[39m])\n\u001b[0;32m---> 23\u001b[0m df \u001b[39m=\u001b[39m convert_to_dataframe(balance_sheet_data)\n",
      "\u001b[0;31mNameError\u001b[0m: name 'balance_sheet_data' is not defined"
     ]
    }
   ],
   "source": [
    "def convert_to_dataframe(text):\n",
    "    lines = text.split('\\n')\n",
    "    \n",
    "    # Define list to store parsed lines\n",
    "    parsed_lines = []\n",
    "    \n",
    "    # Iterate over each line\n",
    "    for line in lines:\n",
    "        # Use regex to split line into account name and amounts\n",
    "        split_line = re.split(r'\\s*(\\$\\d{1,3}(,\\d{3})*(\\.\\d{1,2})?)', line)\n",
    "        \n",
    "        # Remove any empty strings from list\n",
    "        split_line = list(filter(None, split_line))\n",
    "        \n",
    "        # If regex successfully split the line into three parts, append to parsed_lines\n",
    "        if len(split_line) == 3:\n",
    "            parsed_lines.append(split_line)\n",
    "    \n",
    "    # Convert parsed_lines into DataFrame and return\n",
    "    return pd.DataFrame(parsed_lines, columns=['Account', '2022', '2021'])\n",
    "\n",
    "\n",
    "df = convert_to_dataframe(balance_sheet_data)\n"
   ]
  },
  {
   "cell_type": "code",
   "execution_count": 20,
   "metadata": {},
   "outputs": [
    {
     "name": "stdout",
     "output_type": "stream",
     "text": [
      "Empty DataFrame\n",
      "Columns: [Account, 2022, 2021]\n",
      "Index: []\n"
     ]
    }
   ],
   "source": [
    "print(df)"
   ]
  },
  {
   "cell_type": "code",
   "execution_count": 21,
   "metadata": {},
   "outputs": [
    {
     "data": {
      "text/plain": [
       "'(In millions, except number of shares which are reflected in thousands and par value)September 24,2022September 25,2021ASSETS:Current assets:Cash and cash equivalents$23,646\\xa0$34,940\\xa0Marketable securities24,658\\xa027,699\\xa0Accounts receivable, net28,184\\xa026,278\\xa0Inventories4,946\\xa06,580\\xa0Vendor non-trade receivables32,748\\xa025,228\\xa0Other current assets21,223\\xa014,111\\xa0Total current assets135,405\\xa0134,836\\xa0Non-current assets:Marketable securities120,805\\xa0127,877\\xa0Property, plant and equipment, net42,117\\xa039,440\\xa0Other non-current assets54,428\\xa048,849\\xa0Total non-current assets217,350\\xa0216,166\\xa0Total assets$352,755\\xa0$351,002\\xa0LIABILITIES AND SHAREHOLDERS’ EQUITY:Current liabilities:Accounts payable$64,115\\xa0$54,763\\xa0Other current liabilities60,845\\xa047,493\\xa0Deferred revenue7,912\\xa07,612\\xa0Commercial paper9,982\\xa06,000\\xa0Term debt11,128\\xa09,613\\xa0Total current liabilities153,982\\xa0125,481\\xa0Non-current liabilities:Term debt98,959\\xa0109,106\\xa0Other non-current liabilities49,142\\xa053,325\\xa0Total non-current liabilities148,101\\xa0162,431\\xa0Total liabilities302,083\\xa0287,912\\xa0Commitments and contingenciesShareholders’ equity:Common stock and additional paid-in capital, $0.00001 par value: 50,400,000 shares authorized; 15,943,425 and 16,426,786 shares issued and outstanding, respectively64,849\\xa057,365\\xa0Retained earnings/(Accumulated deficit)(3,068)5,562\\xa0Accumulated other comprehensive income/(loss)(11,109)163\\xa0Total shareholders’ equity50,672\\xa063,090\\xa0Total liabilities and shareholders’ equity$352,755\\xa0$351,002\\xa0See accompanying Notes to Consolidated Financial Statements.Apple Inc. | 2022 Form 10-K | 31Apple Inc.'"
      ]
     },
     "execution_count": 21,
     "metadata": {},
     "output_type": "execute_result"
    }
   ],
   "source": [
    "balance_sheet_data"
   ]
  },
  {
   "cell_type": "code",
   "execution_count": null,
   "metadata": {},
   "outputs": [],
   "source": []
  }
 ],
 "metadata": {
  "kernelspec": {
   "display_name": ".venv",
   "language": "python",
   "name": "python3"
  },
  "language_info": {
   "codemirror_mode": {
    "name": "ipython",
    "version": 3
   },
   "file_extension": ".py",
   "mimetype": "text/x-python",
   "name": "python",
   "nbconvert_exporter": "python",
   "pygments_lexer": "ipython3",
   "version": "3.9.7"
  },
  "orig_nbformat": 4
 },
 "nbformat": 4,
 "nbformat_minor": 2
}
